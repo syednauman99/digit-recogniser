{
 "cells": [
  {
   "cell_type": "code",
   "execution_count": 1,
   "metadata": {},
   "outputs": [],
   "source": [
    "import pandas as pd\n",
    "import numpy as np\n",
    "\n",
    "import matplotlib.pyplot as plt\n",
    "import seaborn as sns\n",
    "\n",
    "from sklearn.model_selection import train_test_split\n",
    "from sklearn.metrics import confusion_matrix\n",
    "\n",
    "from keras.models import Sequential\n",
    "from keras.layers import Conv2D, Lambda, MaxPooling2D # convolution layers\n",
    "from keras.layers import Dense, Dropout, Flatten # core layers\n",
    "\n",
    "from keras.layers.normalization import BatchNormalization\n",
    "\n",
    "from keras.preprocessing.image import ImageDataGenerator\n",
    "\n",
    "from keras.utils.np_utils import to_categorical\n",
    "\n",
    "#from keras.datasets import mnist"
   ]
  },
  {
   "cell_type": "code",
   "execution_count": 9,
   "metadata": {},
   "outputs": [],
   "source": [
    "#loading data\n",
    "test_data = pd.read_csv(r'C:\\Users\\Admin\\Desktop\\test.csv')\n",
    "train_data = pd.read_csv(r'C:\\Users\\Admin\\Desktop\\train.csv')\n",
    "\n",
    "sub = pd.read_csv(r'C:\\Users\\Admin\\Desktop\\sample.csv')"
   ]
  },
  {
   "cell_type": "code",
   "execution_count": 3,
   "metadata": {},
   "outputs": [
    {
     "data": {
      "text/plain": [
       "(28000, 784)"
      ]
     },
     "execution_count": 3,
     "metadata": {},
     "output_type": "execute_result"
    }
   ],
   "source": [
    "test.shape"
   ]
  },
  {
   "cell_type": "code",
   "execution_count": 5,
   "metadata": {},
   "outputs": [],
   "source": [
    "from keras.optimizers import RMSprop\n",
    "from keras.callbacks import ReduceLROnPlateau\n",
    "from keras.datasets import mnist"
   ]
  },
  {
   "cell_type": "code",
   "execution_count": 6,
   "metadata": {},
   "outputs": [
    {
     "name": "stdout",
     "output_type": "stream",
     "text": [
      "(70000, 28, 28, 1) (70000,)\n"
     ]
    }
   ],
   "source": [
    "(x_train1, y_train1), (x_test1, y_test1) = mnist.load_data()\n",
    "x_train1 = np.concatenate((x_test1, x_train1))\n",
    "y_train1 = np.concatenate((y_test1, y_train1))\n",
    "\n",
    "x_train1 = x_train1.reshape((x_train1.shape[0], 28, 28, 1))\n",
    "print(x_train1.shape, y_train1.shape)"
   ]
  },
  {
   "cell_type": "code",
   "execution_count": 10,
   "metadata": {},
   "outputs": [
    {
     "name": "stdout",
     "output_type": "stream",
     "text": [
      "(112000, 28, 28, 1) (112000, 10)\n"
     ]
    }
   ],
   "source": [
    "x = np.array(train_data.drop(['label'], axis = 1))\n",
    "y = np.array(train_data['label'])\n",
    "test_data = np.array(test_data)\n",
    "\n",
    "# building the input vector from the 28x28 pixels\n",
    "x = x.reshape((x.shape[0], 28, 28, 1))\n",
    "test_data = test_data.reshape(test_data.shape[0], 28, 28, 1)\n",
    "\n",
    "x = np.concatenate((x, x_train1))\n",
    "y = np.concatenate((y, y_train1))\n",
    "\n",
    "\n",
    "# normalizing the data to help with the training\n",
    "x = x/255\n",
    "test_data = test_data/255\n",
    "\n",
    "# one-hot encoding using keras numpy-related utilities\n",
    "y = to_categorical(y, num_classes = 10)\n",
    "\n",
    "print(x.shape, y.shape)"
   ]
  },
  {
   "cell_type": "markdown",
   "metadata": {},
   "source": [
    "##### TRAIN-TEST SPLIT"
   ]
  },
  {
   "cell_type": "code",
   "execution_count": 11,
   "metadata": {},
   "outputs": [
    {
     "name": "stdout",
     "output_type": "stream",
     "text": [
      "(100800, 28, 28, 1) (100800, 10) (11200, 28, 28, 1) (11200, 10)\n"
     ]
    }
   ],
   "source": [
    "x_train, x_test, y_train, y_test = train_test_split(x, y, test_size = 0.10, shuffle = True)\n",
    "print(x_train.shape, y_train.shape, x_test.shape, y_test.shape)"
   ]
  },
  {
   "cell_type": "code",
   "execution_count": 12,
   "metadata": {},
   "outputs": [
    {
     "name": "stdout",
     "output_type": "stream",
     "text": [
      "Model: \"sequential\"\n",
      "_________________________________________________________________\n",
      "Layer (type)                 Output Shape              Param #   \n",
      "=================================================================\n",
      "conv2d (Conv2D)              (None, 26, 26, 32)        320       \n",
      "_________________________________________________________________\n",
      "conv2d_1 (Conv2D)            (None, 24, 24, 32)        9248      \n",
      "_________________________________________________________________\n",
      "max_pooling2d (MaxPooling2D) (None, 12, 12, 32)        0         \n",
      "_________________________________________________________________\n",
      "batch_normalization (BatchNo (None, 12, 12, 32)        128       \n",
      "_________________________________________________________________\n",
      "conv2d_2 (Conv2D)            (None, 10, 10, 64)        18496     \n",
      "_________________________________________________________________\n",
      "conv2d_3 (Conv2D)            (None, 8, 8, 64)          36928     \n",
      "_________________________________________________________________\n",
      "batch_normalization_1 (Batch (None, 8, 8, 64)          256       \n",
      "_________________________________________________________________\n",
      "conv2d_4 (Conv2D)            (None, 6, 6, 64)          36928     \n",
      "_________________________________________________________________\n",
      "conv2d_5 (Conv2D)            (None, 4, 4, 64)          36928     \n",
      "_________________________________________________________________\n",
      "batch_normalization_2 (Batch (None, 4, 4, 64)          256       \n",
      "_________________________________________________________________\n",
      "flatten (Flatten)            (None, 1024)              0         \n",
      "_________________________________________________________________\n",
      "dense (Dense)                (None, 128)               131200    \n",
      "_________________________________________________________________\n",
      "dropout (Dropout)            (None, 128)               0         \n",
      "_________________________________________________________________\n",
      "dense_1 (Dense)              (None, 10)                1290      \n",
      "=================================================================\n",
      "Total params: 271,978\n",
      "Trainable params: 271,658\n",
      "Non-trainable params: 320\n",
      "_________________________________________________________________\n"
     ]
    }
   ],
   "source": [
    "# building a linear stack of layers with the sequential model\n",
    "model = Sequential()\n",
    "# convolutional layer\n",
    "model.add(Conv2D(filters = 32, kernel_size = (3,3), activation ='relu', input_shape = (28,28,1)))\n",
    "model.add(Conv2D(filters = 32, kernel_size = (3,3), activation ='relu'))\n",
    "model.add(MaxPool2D((2,2)))\n",
    "\n",
    "model.add(BatchNormalization())\n",
    "\n",
    "# convolutional layer\n",
    "model.add(Conv2D(filters = 64, kernel_size = (3,3), activation ='relu'))\n",
    "model.add(Conv2D(filters = 64, kernel_size = (3,3), activation ='relu'))\n",
    "\n",
    "model.add(BatchNormalization())\n",
    "\n",
    "# convolutional layer\n",
    "model.add(Conv2D(filters = 64, kernel_size = (3,3), activation ='relu'))\n",
    "model.add(Conv2D(filters = 64, kernel_size = (3,3), activation ='relu'))\n",
    "\n",
    "model.add(BatchNormalization())\n",
    "\n",
    "# flatten output of conv\n",
    "model.add(Flatten())\n",
    "\n",
    "# hidden layers\n",
    "model.add(Dense(128, activation = \"relu\"))\n",
    "model.add(Dropout(0.30))\n",
    "model.add(Dense(10, activation = \"softmax\"))\n",
    "\n",
    "\n",
    "optimizer = RMSprop(lr = 0.01, rho = 0.9, epsilon = 1e-08, decay = 0.0)\n",
    "\n",
    "# compiling the sequential model\n",
    "model.compile(optimizer = optimizer, loss = 'categorical_crossentropy', metrics = ['accuracy'])\n",
    "\n",
    "model.summary()"
   ]
  },
  {
   "cell_type": "markdown",
   "metadata": {},
   "source": [
    "##### IMAGE AUGMENTATION"
   ]
  },
  {
   "cell_type": "code",
   "execution_count": 13,
   "metadata": {},
   "outputs": [],
   "source": [
    "datagen = ImageDataGenerator(\n",
    "        rotation_range = 10,\n",
    "        zoom_range = 0.1,\n",
    "        width_shift_range = 0.1,\n",
    "        height_shift_range = 0.1,)\n",
    "\n",
    "train_batch = datagen.flow(x, y, batch_size = 64)\n",
    "val_batch = datagen.flow(x_test, y_test, batch_size = 64)"
   ]
  },
  {
   "cell_type": "markdown",
   "metadata": {},
   "source": [
    "#### LEARNING RATE REDUCTION"
   ]
  },
  {
   "cell_type": "code",
   "execution_count": 14,
   "metadata": {},
   "outputs": [],
   "source": [
    "learning_rate_reduction = ReduceLROnPlateau(monitor = 'val_loss', \n",
    "                                            patience = 3, \n",
    "                                            verbose = 1, \n",
    "                                            factor = 0.1, \n",
    "                                            min_lr = 0.00001)"
   ]
  },
  {
   "cell_type": "markdown",
   "metadata": {},
   "source": [
    "## backpropagation"
   ]
  },
  {
   "cell_type": "code",
   "execution_count": 17,
   "metadata": {},
   "outputs": [
    {
     "name": "stdout",
     "output_type": "stream",
     "text": [
      "Epoch 1/20\n",
      "1750/1750 [==============================] - 1311s 749ms/step - loss: 0.1568 - accuracy: 0.9772 - val_loss: 0.0693 - val_accuracy: 0.9864\n",
      "Epoch 2/20\n",
      "1750/1750 [==============================] - 1284s 733ms/step - loss: 0.1625 - accuracy: 0.9778 - val_loss: 0.0815 - val_accuracy: 0.9876\n",
      "Epoch 3/20\n",
      "1750/1750 [==============================] - 1253s 716ms/step - loss: 0.1467 - accuracy: 0.9781 - val_loss: 0.0782 - val_accuracy: 0.9846\n",
      "Epoch 4/20\n",
      "1750/1750 [==============================] - ETA: 0s - loss: 0.1538 - accuracy: 0.9787\n",
      "Epoch 00004: ReduceLROnPlateau reducing learning rate to 9.999999310821295e-05.\n",
      "1750/1750 [==============================] - 1295s 740ms/step - loss: 0.1538 - accuracy: 0.9787 - val_loss: 0.0985 - val_accuracy: 0.9849\n",
      "Epoch 5/20\n",
      "1750/1750 [==============================] - 1251s 715ms/step - loss: 0.1241 - accuracy: 0.9836 - val_loss: 0.0645 - val_accuracy: 0.9901\n",
      "Epoch 6/20\n",
      "1750/1750 [==============================] - 1256s 718ms/step - loss: 0.1110 - accuracy: 0.9836 - val_loss: 0.0703 - val_accuracy: 0.9902\n",
      "Epoch 7/20\n",
      "1750/1750 [==============================] - 1255s 717ms/step - loss: 0.1162 - accuracy: 0.9847 - val_loss: 0.0537 - val_accuracy: 0.9907\n",
      "Epoch 8/20\n",
      "1750/1750 [==============================] - 1255s 717ms/step - loss: 0.1070 - accuracy: 0.9843 - val_loss: 0.0589 - val_accuracy: 0.9898\n",
      "Epoch 9/20\n",
      "1750/1750 [==============================] - 1254s 717ms/step - loss: 0.1097 - accuracy: 0.9846 - val_loss: 0.0509 - val_accuracy: 0.9914\n",
      "Epoch 10/20\n",
      "1750/1750 [==============================] - 1437s 821ms/step - loss: 0.1108 - accuracy: 0.9851 - val_loss: 0.0548 - val_accuracy: 0.9900\n",
      "Epoch 11/20\n",
      "1750/1750 [==============================] - 2010s 1s/step - loss: 0.1032 - accuracy: 0.9851 - val_loss: 0.0612 - val_accuracy: 0.9907\n",
      "Epoch 12/20\n",
      "1750/1750 [==============================] - ETA: 0s - loss: 0.1040 - accuracy: 0.9852\n",
      "Epoch 00012: ReduceLROnPlateau reducing learning rate to 1e-05.\n",
      "1750/1750 [==============================] - 1341s 766ms/step - loss: 0.1040 - accuracy: 0.9852 - val_loss: 0.0624 - val_accuracy: 0.9899\n",
      "Epoch 13/20\n",
      "1750/1750 [==============================] - 1300s 743ms/step - loss: 0.1033 - accuracy: 0.9849 - val_loss: 0.0555 - val_accuracy: 0.9904\n",
      "Epoch 14/20\n",
      "1750/1750 [==============================] - 1269s 725ms/step - loss: 0.1034 - accuracy: 0.9857 - val_loss: 0.0592 - val_accuracy: 0.9906\n",
      "Epoch 15/20\n",
      "1750/1750 [==============================] - 1269s 725ms/step - loss: 0.0930 - accuracy: 0.9862 - val_loss: 0.0665 - val_accuracy: 0.9900\n",
      "Epoch 16/20\n",
      "1750/1750 [==============================] - 1269s 725ms/step - loss: 0.1031 - accuracy: 0.9859 - val_loss: 0.0584 - val_accuracy: 0.9914\n",
      "Epoch 17/20\n",
      "1750/1750 [==============================] - 1317s 753ms/step - loss: 0.1042 - accuracy: 0.9859 - val_loss: 0.0534 - val_accuracy: 0.9914\n",
      "Epoch 18/20\n",
      "1750/1750 [==============================] - 1166s 666ms/step - loss: 0.1085 - accuracy: 0.9856 - val_loss: 0.0524 - val_accuracy: 0.9914\n",
      "Epoch 19/20\n",
      "1750/1750 [==============================] - 815s 466ms/step - loss: 0.0923 - accuracy: 0.9864 - val_loss: 0.0915 - val_accuracy: 0.9909\n",
      "Epoch 20/20\n",
      "1750/1750 [==============================] - 824s 471ms/step - loss: 0.0962 - accuracy: 0.9864 - val_loss: 0.0514 - val_accuracy: 0.9912\n"
     ]
    }
   ],
   "source": [
    "# training the model for 20 epochs\n",
    "history = model.fit_generator(generator = train_batch,\n",
    "                              epochs = 20, \n",
    "                              steps_per_epoch = len(train_batch),\n",
    "                              validation_data = val_batch,\n",
    "                              validation_steps = len(val_batch),\n",
    "                              verbose = 1,\n",
    "                             callbacks = [learning_rate_reduction])"
   ]
  },
  {
   "cell_type": "markdown",
   "metadata": {},
   "source": [
    "##### OUTPUT"
   ]
  },
  {
   "cell_type": "code",
   "execution_count": 18,
   "metadata": {},
   "outputs": [
    {
     "name": "stdout",
     "output_type": "stream",
     "text": [
      "WARNING:tensorflow:From <ipython-input-18-fa753087b0d8>:1: Sequential.predict_classes (from tensorflow.python.keras.engine.sequential) is deprecated and will be removed after 2021-01-01.\n",
      "Instructions for updating:\n",
      "Please use instead:* `np.argmax(model.predict(x), axis=-1)`,   if your model does multi-class classification   (e.g. if it uses a `softmax` last-layer activation).* `(model.predict(x) > 0.5).astype(\"int32\")`,   if your model does binary classification   (e.g. if it uses a `sigmoid` last-layer activation).\n"
     ]
    }
   ],
   "source": [
    "res = model.predict_classes(test_data, batch_size = 64)\n",
    "result = pd.Series(res, name = 'Label')\n",
    "submission = pd.concat([pd.Series(range(1, 28001), name = 'ImageId'), result], axis = 1)\n",
    "submission.to_csv('digit01.csv', index = False)"
   ]
  },
  {
   "cell_type": "code",
   "execution_count": 20,
   "metadata": {},
   "outputs": [
    {
     "name": "stdout",
     "output_type": "stream",
     "text": [
      "110/110 [==============================] - 230s 2s/step - loss: 0.2575 - accuracy: 0.9934\n",
      "99.33571219444275\n"
     ]
    }
   ],
   "source": [
    "res = model.evaluate(x, y, batch_size = 1024)\n",
    "print(res[1]*100)"
   ]
  }
 ],
 "metadata": {
  "kernelspec": {
   "display_name": "Python 3",
   "language": "python",
   "name": "python3"
  },
  "language_info": {
   "codemirror_mode": {
    "name": "ipython",
    "version": 3
   },
   "file_extension": ".py",
   "mimetype": "text/x-python",
   "name": "python",
   "nbconvert_exporter": "python",
   "pygments_lexer": "ipython3",
   "version": "3.7.6"
  }
 },
 "nbformat": 4,
 "nbformat_minor": 4
}
